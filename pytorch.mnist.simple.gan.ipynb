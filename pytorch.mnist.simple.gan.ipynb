{
 "cells": [
  {
   "cell_type": "markdown",
   "metadata": {},
   "source": [
    "### Generating hand written digits\n",
    "\n",
    "After learning from MNIST, using GAN"
   ]
  },
  {
   "cell_type": "code",
   "execution_count": 1,
   "metadata": {
    "collapsed": true
   },
   "outputs": [],
   "source": [
    "import torch\n",
    "import torch.nn as nn\n",
    "import torch.nn.functional as F\n",
    "import torchvision.transforms as transforms\n",
    "import torch.optim as optim\n",
    "\n",
    "from torch.autograd import Variable\n",
    "from torchvision import datasets\n",
    "from torchvision import utils\n",
    "\n",
    "import numpy as np\n",
    "import matplotlib.pyplot as plt\n",
    "\n",
    "%matplotlib inline"
   ]
  },
  {
   "cell_type": "code",
   "execution_count": 2,
   "metadata": {
    "collapsed": true
   },
   "outputs": [],
   "source": [
    "bs = 6000\n",
    "img_height = 28  # Square \n",
    "# Learning rate\n",
    "lr = 1e-3\n",
    "num_epochs = 250"
   ]
  },
  {
   "cell_type": "code",
   "execution_count": 3,
   "metadata": {
    "collapsed": true
   },
   "outputs": [],
   "source": [
    "# Fetch the data, and prepare the dataset and dataloader\n",
    "trans = transforms.Compose([transforms.ToTensor(),])\n",
    "dataset = datasets.MNIST('/home/as/datasets/pytorch.mnist', transform=trans, download=True)\n",
    "dataloader = torch.utils.data.DataLoader(dataset, batch_size=bs, shuffle=True, num_workers=4, pin_memory=True)"
   ]
  },
  {
   "cell_type": "code",
   "execution_count": 4,
   "metadata": {},
   "outputs": [
    {
     "data": {
      "text/plain": [
       "<matplotlib.image.AxesImage at 0x7f4878424160>"
      ]
     },
     "execution_count": 4,
     "metadata": {},
     "output_type": "execute_result"
    },
    {
     "data": {
      "image/png": "[encoded data removed]",
      "text/plain": [
       "<matplotlib.figure.Figure at 0x7f48d2c29320>"
      ]
     },
     "metadata": {},
     "output_type": "display_data"
    }
   ],
   "source": [
    "# Let's see some images\n",
    "\n",
    "imgs, lables = next(iter(dataloader))\n",
    "grid = utils.make_grid(imgs[:64])\n",
    "grid = grid.numpy().transpose((1, 2, 0))\n",
    "plt.imshow(grid)"
   ]
  },
  {
   "cell_type": "code",
   "execution_count": 5,
   "metadata": {
    "collapsed": true
   },
   "outputs": [],
   "source": [
    "# Constants\n",
    "\n",
    "# Dimensions for random noise\n",
    "z_dim = 100\n",
    "\n",
    "# Dimensions for Generator\n",
    "G_in, G_hidden, G_out = 100, 128, 784  # 784 is 28 * 28, dimensions of an MNIST digit\n",
    "\n",
    "# Dimensions for Discrimininator\n",
    "D_in, D_hidden, D_out = 784, 128, 1  # 784 is 28 * 28, dimensions of an MNIST digit"
   ]
  },
  {
   "cell_type": "code",
   "execution_count": 6,
   "metadata": {
    "collapsed": true
   },
   "outputs": [],
   "source": [
    "class TwoLayerNet(nn.Module):\n",
    "    \n",
    "    def __init__(self, dim_in, dim_hidden, dim_out):\n",
    "        \n",
    "        super(TwoLayerNet, self).__init__()\n",
    "        self.linear1 = nn.Linear(dim_in, dim_hidden, bias=True)\n",
    "        self.linear2 = nn.Linear(dim_hidden, dim_out, bias=True)\n",
    "        \n",
    "    def forward(self, x):\n",
    "        x = self.linear1(x)\n",
    "        x = F.relu(x)\n",
    "        x = self.linear2(x)\n",
    "        x = F.sigmoid(x)\n",
    "        return x\n",
    "    \n",
    "G = TwoLayerNet(G_in, G_hidden, G_out).cuda()\n",
    "D = TwoLayerNet(D_in, D_hidden, D_out).cuda()"
   ]
  },
  {
   "cell_type": "code",
   "execution_count": 7,
   "metadata": {
    "collapsed": true
   },
   "outputs": [],
   "source": [
    "optim_D = optim.Adam(D.parameters(), lr=lr)\n",
    "optim_G = optim.Adam(G.parameters(), lr=lr)"
   ]
  },
  {
   "cell_type": "code",
   "execution_count": 8,
   "metadata": {},
   "outputs": [
    {
     "name": "stdout",
     "output_type": "stream",
     "text": [
      "Epoch 0 done.\n",
      "Epoch 1 done.\n",
      "Epoch 2 done.\n",
      "Epoch 3 done.\n",
      "Epoch 4 done.\n",
      "Epoch 5 done.\n",
      "Epoch 6 done.\n",
      "Epoch 7 done.\n",
      "Epoch 8 done.\n",
      "Epoch 9 done.\n",
      "Epoch 10 done.\n",
      "Epoch 11 done.\n",
      "Epoch 12 done.\n",
      "Epoch 13 done.\n",
      "Epoch 14 done.\n",
      "Epoch 15 done.\n",
      "Epoch 16 done.\n",
      "Epoch 17 done.\n",
      "Epoch 18 done.\n",
      "Epoch 19 done.\n",
      "Epoch 20 done.\n",
      "Epoch 21 done.\n",
      "Epoch 22 done.\n",
      "Epoch 23 done.\n",
      "Epoch 24 done.\n",
      "Epoch 25 done.\n",
      "Epoch 26 done.\n",
      "Epoch 27 done.\n",
      "Epoch 28 done.\n",
      "Epoch 29 done.\n",
      "Epoch 30 done.\n",
      "Epoch 31 done.\n",
      "Epoch 32 done.\n",
      "Epoch 33 done.\n",
      "Epoch 34 done.\n",
      "Epoch 35 done.\n",
      "Epoch 36 done.\n",
      "Epoch 37 done.\n",
      "Epoch 38 done.\n",
      "Epoch 39 done.\n",
      "Epoch 40 done.\n",
      "Epoch 41 done.\n",
      "Epoch 42 done.\n",
      "Epoch 43 done.\n",
      "Epoch 44 done.\n",
      "Epoch 45 done.\n",
      "Epoch 46 done.\n",
      "Epoch 47 done.\n",
      "Epoch 48 done.\n",
      "Epoch 49 done.\n",
      "Epoch 50 done.\n",
      "Epoch 51 done.\n",
      "Epoch 52 done.\n",
      "Epoch 53 done.\n",
      "Epoch 54 done.\n",
      "Epoch 55 done.\n",
      "Epoch 56 done.\n",
      "Epoch 57 done.\n",
      "Epoch 58 done.\n",
      "Epoch 59 done.\n",
      "Epoch 60 done.\n",
      "Epoch 61 done.\n",
      "Epoch 62 done.\n",
      "Epoch 63 done.\n",
      "Epoch 64 done.\n",
      "Epoch 65 done.\n",
      "Epoch 66 done.\n",
      "Epoch 67 done.\n",
      "Epoch 68 done.\n",
      "Epoch 69 done.\n",
      "Epoch 70 done.\n",
      "Epoch 71 done.\n",
      "Epoch 72 done.\n",
      "Epoch 73 done.\n",
      "Epoch 74 done.\n",
      "Epoch 75 done.\n",
      "Epoch 76 done.\n",
      "Epoch 77 done.\n",
      "Epoch 78 done.\n",
      "Epoch 79 done.\n",
      "Epoch 80 done.\n",
      "Epoch 81 done.\n",
      "Epoch 82 done.\n",
      "Epoch 83 done.\n",
      "Epoch 84 done.\n",
      "Epoch 85 done.\n",
      "Epoch 86 done.\n",
      "Epoch 87 done.\n",
      "Epoch 88 done.\n",
      "Epoch 89 done.\n",
      "Epoch 90 done.\n",
      "Epoch 91 done.\n",
      "Epoch 92 done.\n",
      "Epoch 93 done.\n",
      "Epoch 94 done.\n",
      "Epoch 95 done.\n",
      "Epoch 96 done.\n",
      "Epoch 97 done.\n",
      "Epoch 98 done.\n",
      "Epoch 99 done.\n",
      "Epoch 100 done.\n",
      "Epoch 101 done.\n",
      "Epoch 102 done.\n",
      "Epoch 103 done.\n",
      "Epoch 104 done.\n",
      "Epoch 105 done.\n",
      "Epoch 106 done.\n",
      "Epoch 107 done.\n",
      "Epoch 108 done.\n",
      "Epoch 109 done.\n",
      "Epoch 110 done.\n",
      "Epoch 111 done.\n",
      "Epoch 112 done.\n",
      "Epoch 113 done.\n",
      "Epoch 114 done.\n",
      "Epoch 115 done.\n",
      "Epoch 116 done.\n",
      "Epoch 117 done.\n",
      "Epoch 118 done.\n",
      "Epoch 119 done.\n",
      "Epoch 120 done.\n",
      "Epoch 121 done.\n",
      "Epoch 122 done.\n",
      "Epoch 123 done.\n",
      "Epoch 124 done.\n",
      "Epoch 125 done.\n",
      "Epoch 126 done.\n",
      "Epoch 127 done.\n",
      "Epoch 128 done.\n",
      "Epoch 129 done.\n",
      "Epoch 130 done.\n",
      "Epoch 131 done.\n",
      "Epoch 132 done.\n",
      "Epoch 133 done.\n",
      "Epoch 134 done.\n",
      "Epoch 135 done.\n",
      "Epoch 136 done.\n",
      "Epoch 137 done.\n",
      "Epoch 138 done.\n",
      "Epoch 139 done.\n",
      "Epoch 140 done.\n",
      "Epoch 141 done.\n",
      "Epoch 142 done.\n",
      "Epoch 143 done.\n",
      "Epoch 144 done.\n",
      "Epoch 145 done.\n",
      "Epoch 146 done.\n",
      "Epoch 147 done.\n",
      "Epoch 148 done.\n",
      "Epoch 149 done.\n",
      "Epoch 150 done.\n",
      "Epoch 151 done.\n",
      "Epoch 152 done.\n",
      "Epoch 153 done.\n",
      "Epoch 154 done.\n",
      "Epoch 155 done.\n",
      "Epoch 156 done.\n",
      "Epoch 157 done.\n",
      "Epoch 158 done.\n",
      "Epoch 159 done.\n",
      "Epoch 160 done.\n",
      "Epoch 161 done.\n",
      "Epoch 162 done.\n",
      "Epoch 163 done.\n",
      "Epoch 164 done.\n",
      "Epoch 165 done.\n",
      "Epoch 166 done.\n",
      "Epoch 167 done.\n",
      "Epoch 168 done.\n",
      "Epoch 169 done.\n",
      "Epoch 170 done.\n",
      "Epoch 171 done.\n",
      "Epoch 172 done.\n",
      "Epoch 173 done.\n",
      "Epoch 174 done.\n",
      "Epoch 175 done.\n",
      "Epoch 176 done.\n",
      "Epoch 177 done.\n",
      "Epoch 178 done.\n",
      "Epoch 179 done.\n",
      "Epoch 180 done.\n",
      "Epoch 181 done.\n",
      "Epoch 182 done.\n",
      "Epoch 183 done.\n",
      "Epoch 184 done.\n",
      "Epoch 185 done.\n",
      "Epoch 186 done.\n",
      "Epoch 187 done.\n",
      "Epoch 188 done.\n",
      "Epoch 189 done.\n",
      "Epoch 190 done.\n",
      "Epoch 191 done.\n",
      "Epoch 192 done.\n",
      "Epoch 193 done.\n",
      "Epoch 194 done.\n",
      "Epoch 195 done.\n",
      "Epoch 196 done.\n",
      "Epoch 197 done.\n",
      "Epoch 198 done.\n",
      "Epoch 199 done.\n",
      "Epoch 200 done.\n",
      "Epoch 201 done.\n",
      "Epoch 202 done.\n",
      "Epoch 203 done.\n",
      "Epoch 204 done.\n",
      "Epoch 205 done.\n",
      "Epoch 206 done.\n",
      "Epoch 207 done.\n",
      "Epoch 208 done.\n",
      "Epoch 209 done.\n",
      "Epoch 210 done.\n",
      "Epoch 211 done.\n",
      "Epoch 212 done.\n",
      "Epoch 213 done.\n",
      "Epoch 214 done.\n",
      "Epoch 215 done.\n",
      "Epoch 216 done.\n",
      "Epoch 217 done.\n",
      "Epoch 218 done.\n",
      "Epoch 219 done.\n",
      "Epoch 220 done.\n",
      "Epoch 221 done.\n",
      "Epoch 222 done.\n",
      "Epoch 223 done.\n",
      "Epoch 224 done.\n",
      "Epoch 225 done.\n",
      "Epoch 226 done.\n",
      "Epoch 227 done.\n",
      "Epoch 228 done.\n",
      "Epoch 229 done.\n",
      "Epoch 230 done.\n",
      "Epoch 231 done.\n",
      "Epoch 232 done.\n",
      "Epoch 233 done.\n",
      "Epoch 234 done.\n",
      "Epoch 235 done.\n",
      "Epoch 236 done.\n",
      "Epoch 237 done.\n",
      "Epoch 238 done.\n",
      "Epoch 239 done.\n",
      "Epoch 240 done.\n",
      "Epoch 241 done.\n",
      "Epoch 242 done.\n",
      "Epoch 243 done.\n",
      "Epoch 244 done.\n",
      "Epoch 245 done.\n",
      "Epoch 246 done.\n",
      "Epoch 247 done.\n",
      "Epoch 248 done.\n",
      "Epoch 249 done.\n"
     ]
    }
   ],
   "source": [
    "d_loss_trend = list()\n",
    "g_loss_trend = list()\n",
    "\n",
    "for n in range(num_epochs):\n",
    "    \n",
    "    for batch_num, data in enumerate(dataloader):\n",
    "        \n",
    "        # Discriminator ==\n",
    "        imgs = Variable(data[0]).cuda()\n",
    "        loop_bs = len(imgs)\n",
    "        x = imgs.resize(loop_bs, img_height*img_height)  # torch.Size([64, 784])\n",
    "        z = Variable(torch.randn(loop_bs, G_in)).cuda()  # torch.Size([64, 100])\n",
    "        G_output = G(z)\n",
    "        D_output_real = D(x)\n",
    "        D_output_fake = D(G_output)\n",
    "        \n",
    "        # print(D_real.data.shape)                  # torch.Size([64, 1])\n",
    "        # print(D_fake.data.shape)                  # torch.Size([64, 1])\n",
    "        # print(G_output.data.shape)                # torch.Size([64, 784])\n",
    "        \n",
    "        D_loss = -torch.mean(torch.log(D_output_real) + torch.log(1. - D_output_fake))\n",
    "        d_loss_trend.append(D_loss)\n",
    "        D_loss.backward()\n",
    "        optim_D.step()\n",
    "        \n",
    "        # Reset\n",
    "        optim_D.zero_grad()\n",
    "        optim_G.zero_grad()\n",
    "        \n",
    "        \n",
    "        # Generator ==\n",
    "        z = Variable(torch.randn(loop_bs, G_in)).cuda()\n",
    "        G_output = G(z)\n",
    "        D_output_fake = D(G_output)\n",
    "       \n",
    "        G_loss = -torch.mean(torch.log(D_output_fake))\n",
    "        g_loss_trend.append(G_loss)\n",
    "        G_loss.backward()\n",
    "        optim_G.step()    \n",
    "        \n",
    "        # Reset\n",
    "        optim_D.zero_grad()\n",
    "        optim_G.zero_grad()\n",
    "        \n",
    "        \n",
    "        \n",
    "    print('Epoch', n, 'done.')"
   ]
  },
  {
   "cell_type": "code",
   "execution_count": 40,
   "metadata": {},
   "outputs": [
    {
     "data": {
      "text/plain": [
       "Text(0.5,1,'Discriminator loss')"
      ]
     },
     "execution_count": 40,
     "metadata": {},
     "output_type": "execute_result"
    },
    {
     "data": {
      "image/png": "[encoded data removed]",
      "text/plain": [
       "<matplotlib.figure.Figure at 0x7f481bfb8ba8>"
      ]
     },
     "metadata": {},
     "output_type": "display_data"
    }
   ],
   "source": [
    "dl = []\n",
    "for d in d_loss_trend[:2500]:\n",
    "    dl.append(d.cpu().data.numpy()[0])\n",
    "\n",
    "plt.plot(dl)\n",
    "plt.title('Discriminator loss')"
   ]
  },
  {
   "cell_type": "code",
   "execution_count": 41,
   "metadata": {},
   "outputs": [
    {
     "data": {
      "text/plain": [
       "[<matplotlib.lines.Line2D at 0x7f482052bd68>]"
      ]
     },
     "execution_count": 41,
     "metadata": {},
     "output_type": "execute_result"
    },
    {
     "data": {
      "image/png": "[encoded data removed]",
      "text/plain": [
       "<matplotlib.figure.Figure at 0x7f481b977278>"
      ]
     },
     "metadata": {},
     "output_type": "display_data"
    }
   ],
   "source": [
    "gl = []\n",
    "for g in g_loss_trend[:2500]:\n",
    "    gl.append(g.cpu().data.numpy()[0])\n",
    "\n",
    "plt.title('Generator loss')\n",
    "plt.plot(gl)"
   ]
  },
  {
   "cell_type": "code",
   "execution_count": 105,
   "metadata": {},
   "outputs": [
    {
     "data": {
      "text/plain": [
       "<matplotlib.image.AxesImage at 0x7f481a00ea20>"
      ]
     },
     "execution_count": 105,
     "metadata": {},
     "output_type": "execute_result"
    },
    {
     "data": {
      "image/png": "[encoded data removed]",
      "text/plain": [
       "<matplotlib.figure.Figure at 0x7f481a6009b0>"
      ]
     },
     "metadata": {},
     "output_type": "display_data"
    }
   ],
   "source": [
    "z = Variable(torch.randn(1, 100)).cuda()\n",
    "G_output = G(z)\n",
    "G_output.data.shape\n",
    "img = G_output.data.cpu().numpy()[0]\n",
    "img2 = img.reshape(28, 28)\n",
    "\n",
    "fig = plt.figure(figsize=(1, 1))\n",
    "plt.imshow(img2, cmap='Greys')"
   ]
  }
 ],
 "metadata": {
  "kernelspec": {
   "display_name": "Python 3",
   "language": "python",
   "name": "python3"
  },
  "language_info": {
   "codemirror_mode": {
    "name": "ipython",
    "version": 3
   },
   "file_extension": ".py",
   "mimetype": "text/x-python",
   "name": "python",
   "nbconvert_exporter": "python",
   "pygments_lexer": "ipython3",
   "version": "3.6.3"
  }
 },
 "nbformat": 4,
 "nbformat_minor": 2
}
